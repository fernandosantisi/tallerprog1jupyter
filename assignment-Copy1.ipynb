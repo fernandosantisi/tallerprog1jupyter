{
 "cells": [
  {
   "cell_type": "markdown",
   "metadata": {},
   "source": [
    "# Assignment\n",
    "\n",
    "The assignment will require you to complete cells, create new ones, and move around some cells. You need to familiarize yourself with the Jupyter notebook interface. You can find a tutorial [here](https://www.dataquest.io/blog/jupyter-notebook-tutorial/)."
   ]
  },
  {
   "cell_type": "markdown",
   "metadata": {},
   "source": [
    "---"
   ]
  },
  {
   "cell_type": "markdown",
   "metadata": {},
   "source": [
    "# [EXERCISE 1]\n",
    "\n",
    "### Fernando Santisi (fernando.santisi@ing.austral.edu.ar)\n",
    "\n",
    "--------------------------------------------------------------------------\n",
    "\n",
    "<center>\n",
    "    <img src=\"doggo.jpg\" width=\"300\" height=\"100\">\n",
    "    <figcaption>Sirena, my dog, playing in my backyard.</figcaption>\n",
    "</center>"
   ]
  },
  {
   "cell_type": "markdown",
   "metadata": {},
   "source": [
    "# [EXERCISE 2]"
   ]
  },
  {
   "cell_type": "code",
   "execution_count": 6,
   "metadata": {},
   "outputs": [],
   "source": [
    "#1. CREATE A NEW CELL BELOW THIS ONE AND ADD A MARKDOWN TITLE (HEADING 1) WITH THE TEXT \"[EXERCISE 2]\"\n",
    "#2. Create a new cell below the one with a markdown title of \"[EXERCISE 2]\" to solve the following exercise in python, it needs to be a CODE cell:\n",
    "#   Write a function rectangle_area(width, height) that takes the width and height of a rectangle as input and returns its area.\n",
    "#3. Add the instructions of the exercise as a comment in the code cell above the function definition.\n",
    "\n",
    "def rectangle_area(a,b):\n",
    "    return a*b"
   ]
  },
  {
   "cell_type": "markdown",
   "metadata": {},
   "source": [
    "# [EXERCISE 3]"
   ]
  },
  {
   "cell_type": "code",
   "execution_count": 10,
   "metadata": {
    "scrolled": true
   },
   "outputs": [
    {
     "name": "stdout",
     "output_type": "stream",
     "text": [
      "The area of a rectangle with width 3 and height 4 is 12.\n",
      "The area of a rectangle with width 5 and height 10 is 50.\n",
      "The area of a rectangle with width 8 and height 2 is 16.\n"
     ]
    }
   ],
   "source": [
    "#1. CREATE A NEW CELL BELOW THIS ONE AND ADD A MARKDOWN TITLE (HEADING 1) WITH THE TEXT \"[EXERCISE 3]\"\n",
    "\n",
    "#2. Use your created function to calculate the area of a rectangle with width 3 and height 4. Another of width 5 and height 10, and another of width 8 and height 2. Show your results in the same cell with a description of each result. Similar to this example:\n",
    "\n",
    "#     `The area of a rectangle with width 3 and height 4 is 12.`\n",
    "\n",
    "#3. Add the instructions of the exercise as a comment in the code cell with the solution.\n",
    "\n",
    "print(f\"The area of a rectangle with width 3 and height 4 is {rectangle_area(3,4)}.\")\n",
    "print(f\"The area of a rectangle with width 5 and height 10 is {rectangle_area(5,10)}.\")\n",
    "print(f\"The area of a rectangle with width 8 and height 2 is {rectangle_area(8,2)}.\")"
   ]
  },
  {
   "cell_type": "markdown",
   "metadata": {},
   "source": [
    "# [EXERCISE 5]"
   ]
  },
  {
   "cell_type": "code",
   "execution_count": 1,
   "metadata": {},
   "outputs": [],
   "source": [
    "def my_function(x):\n",
    "    return x**2\n",
    "\n",
    "def central_difference(f,x,h):\n",
    "    return (f(x+h)-f(x))/h"
   ]
  },
  {
   "cell_type": "code",
   "execution_count": 2,
   "metadata": {
    "scrolled": false
   },
   "outputs": [
    {
     "name": "stdout",
     "output_type": "stream",
     "text": [
      "The derivative of f(x) = x^2 at x = 2 using h = 0.1 is 4.100000000000001.\n",
      "The derivative of f(x) = x^2 at x = 2 using h = 0.01 is 4.009999999999891.\n",
      "The derivative of f(x) = x^2 at x = 2 using h = 0.001 is 4.000999999999699.\n"
     ]
    }
   ],
   "source": [
    "print(f\"The derivative of f(x) = x^2 at x = 2 using h = 0.1 is {central_difference(my_function,2,0.1)}.\")\n",
    "print(f\"The derivative of f(x) = x^2 at x = 2 using h = 0.01 is {central_difference(my_function,2,0.01)}.\")\n",
    "print(f\"The derivative of f(x) = x^2 at x = 2 using h = 0.001 is {central_difference(my_function,2,0.001)}.\")"
   ]
  }
 ],
 "metadata": {
  "kernelspec": {
   "display_name": "Python 3 (ipykernel)",
   "language": "python",
   "name": "python3"
  },
  "language_info": {
   "codemirror_mode": {
    "name": "ipython",
    "version": 3
   },
   "file_extension": ".py",
   "mimetype": "text/x-python",
   "name": "python",
   "nbconvert_exporter": "python",
   "pygments_lexer": "ipython3",
   "version": "3.10.6"
  }
 },
 "nbformat": 4,
 "nbformat_minor": 1
}
